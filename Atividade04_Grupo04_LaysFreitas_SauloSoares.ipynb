{
  "nbformat": 4,
  "nbformat_minor": 0,
  "metadata": {
    "colab": {
      "name": "Atividade04_Grupo04_LaysFreitas_SauloSoares.ipynb",
      "provenance": [],
      "collapsed_sections": []
    },
    "kernelspec": {
      "name": "python3",
      "display_name": "Python 3"
    },
    "language_info": {
      "name": "python"
    }
  },
  "cells": [
    {
      "cell_type": "markdown",
      "metadata": {
        "id": "wvnP7Pe9w0Dy"
      },
      "source": [
        "# Atividade 04 - Tópicos: Mineração de Repositório de Software\n",
        "\n",
        "**Grupo 4: Lays de Freitas e Saulo Soares**"
      ]
    },
    {
      "cell_type": "markdown",
      "metadata": {
        "id": "0Mqa79ogw-5X"
      },
      "source": [
        "Importanto bibliotecas necessárias:"
      ]
    },
    {
      "cell_type": "code",
      "metadata": {
        "id": "6HHnnFtowStH"
      },
      "source": [
        "import nltk\n",
        "from nltk.tokenize import word_tokenize\n",
        "from nltk.stem.snowball import SnowballStemmer\n",
        "from sklearn.feature_extraction.text import TfidfVectorizer, CountVectorizer\n",
        "import pandas as pd\n",
        "import numpy as np\n",
        "import matplotlib.pyplot as plt\n",
        "%matplotlib inline\n",
        "import warnings\n",
        "warnings.simplefilter(\"ignore\")\n",
        "\n",
        "from sklearn.model_selection import train_test_split\n",
        "from sklearn.pipeline import Pipeline\n",
        "from sklearn.metrics import accuracy_score\n",
        "from sklearn.metrics import confusion_matrix\n",
        "from sklearn.metrics import plot_confusion_matrix\n",
        "from sklearn.metrics import f1_score\n",
        "\n",
        "#Classificadores\n",
        "from sklearn.neighbors import KNeighborsClassifier\n",
        "from sklearn.naive_bayes import MultinomialNB\n",
        "from sklearn.svm import SVC"
      ],
      "execution_count": 1,
      "outputs": []
    },
    {
      "cell_type": "markdown",
      "metadata": {
        "id": "9dLv1cE0xEIw"
      },
      "source": [
        "Definindo a função de Tokenizaçao:"
      ]
    },
    {
      "cell_type": "code",
      "metadata": {
        "id": "gr5eoxXoxEWX"
      },
      "source": [
        "# Tokenização\n",
        "def tokenize(text):\n",
        "    # Tokenização\n",
        "    tokens = nltk.word_tokenize(text)\n",
        "    \n",
        "    # Stemização\n",
        "    stems  = []\n",
        "    for item in tokens:\n",
        "        stems.append(SnowballStemmer(\"english\").stem(item))\n",
        "    return stems"
      ],
      "execution_count": 2,
      "outputs": []
    },
    {
      "cell_type": "markdown",
      "metadata": {
        "id": "iOZZgFNXxJTP"
      },
      "source": [
        "Conectando com o drive para realizar a leitura do dataset \"Eclipse.csv\".\n",
        "\n",
        "**Nota: Alteramos o dataset para incluir o nome das colunas.**"
      ]
    },
    {
      "cell_type": "code",
      "metadata": {
        "colab": {
          "base_uri": "https://localhost:8080/"
        },
        "id": "VkrNZhCXxJon",
        "outputId": "3c752f00-f0bf-4997-cdde-d448733f4340"
      },
      "source": [
        "from google.colab import drive\n",
        "drive.mount('/content/drive')"
      ],
      "execution_count": 3,
      "outputs": [
        {
          "output_type": "stream",
          "name": "stdout",
          "text": [
            "Mounted at /content/drive\n"
          ]
        }
      ]
    },
    {
      "cell_type": "code",
      "metadata": {
        "colab": {
          "base_uri": "https://localhost:8080/",
          "height": 292
        },
        "id": "kak9P2p9xK1_",
        "outputId": "9f29b0fa-358a-4dc4-eb10-f1f4e0f10044"
      },
      "source": [
        "# Carregando os dados\n",
        "df = pd.read_csv('/content/drive/My Drive/Mineração/Atividade04/Eclipse_total.csv') # Salvamos com esse nome antes\n",
        "\n",
        "# Imprimindo começo do dataset\n",
        "df.head()"
      ],
      "execution_count": 5,
      "outputs": [
        {
          "output_type": "execute_result",
          "data": {
            "text/html": [
              "<div>\n",
              "<style scoped>\n",
              "    .dataframe tbody tr th:only-of-type {\n",
              "        vertical-align: middle;\n",
              "    }\n",
              "\n",
              "    .dataframe tbody tr th {\n",
              "        vertical-align: top;\n",
              "    }\n",
              "\n",
              "    .dataframe thead th {\n",
              "        text-align: right;\n",
              "    }\n",
              "</style>\n",
              "<table border=\"1\" class=\"dataframe\">\n",
              "  <thead>\n",
              "    <tr style=\"text-align: right;\">\n",
              "      <th></th>\n",
              "      <th>ID</th>\n",
              "      <th>ProductName</th>\n",
              "      <th>ProcessedSummary</th>\n",
              "      <th>ProcessedDescription</th>\n",
              "      <th>ComponentName</th>\n",
              "      <th>SeverityLevel</th>\n",
              "      <th>Priority</th>\n",
              "      <th>Developers</th>\n",
              "      <th>Topic</th>\n",
              "      <th>Status</th>\n",
              "    </tr>\n",
              "  </thead>\n",
              "  <tbody>\n",
              "    <tr>\n",
              "      <th>0</th>\n",
              "      <td>221036</td>\n",
              "      <td>Community</td>\n",
              "      <td>unabl enter request parti code cq</td>\n",
              "      <td>report enter request parti librari submit java...</td>\n",
              "      <td>Project Management &amp; Portal</td>\n",
              "      <td>blocker</td>\n",
              "      <td>P1</td>\n",
              "      <td>bjorn.freeman-benson</td>\n",
              "      <td>d_a_carver bjorn.freeman-benson karl.matthias</td>\n",
              "      <td>FIXED</td>\n",
              "    </tr>\n",
              "    <tr>\n",
              "      <th>1</th>\n",
              "      <td>221203</td>\n",
              "      <td>Community</td>\n",
              "      <td>submit request cq cq submit</td>\n",
              "      <td>submit request cq cq submit creat screen retur...</td>\n",
              "      <td>Project Management &amp; Portal</td>\n",
              "      <td>blocker</td>\n",
              "      <td>P1</td>\n",
              "      <td>bjorn.freeman-benson</td>\n",
              "      <td>d_a_carver d_a_carver bjorn.freeman-benson kar...</td>\n",
              "      <td>FIXED</td>\n",
              "    </tr>\n",
              "    <tr>\n",
              "      <th>2</th>\n",
              "      <td>243952</td>\n",
              "      <td>Community</td>\n",
              "      <td>ca submit cq rd parti contribut develop apach</td>\n",
              "      <td>valid apach url enter url project page apach p...</td>\n",
              "      <td>Project Management &amp; Portal</td>\n",
              "      <td>blocker</td>\n",
              "      <td>P1</td>\n",
              "      <td>bjorn.freeman-benson</td>\n",
              "      <td>ekuleshov ekuleshov bjorn.freeman-benson ekule...</td>\n",
              "      <td>FIXED</td>\n",
              "    </tr>\n",
              "    <tr>\n",
              "      <th>3</th>\n",
              "      <td>230229</td>\n",
              "      <td>Community</td>\n",
              "      <td>tool link fail ie</td>\n",
              "      <td>webmast email tool link respond js error error...</td>\n",
              "      <td>Project Management &amp; Portal</td>\n",
              "      <td>blocker</td>\n",
              "      <td>P1</td>\n",
              "      <td>gabe.obrien</td>\n",
              "      <td>webmaster webmaster bjorn.freeman-benson karl....</td>\n",
              "      <td>FIXED</td>\n",
              "    </tr>\n",
              "    <tr>\n",
              "      <th>4</th>\n",
              "      <td>229095</td>\n",
              "      <td>Community</td>\n",
              "      <td>cron total broken</td>\n",
              "      <td>portal cron job broken friday gabe debug fix c...</td>\n",
              "      <td>Project Management &amp; Portal</td>\n",
              "      <td>blocker</td>\n",
              "      <td>P1</td>\n",
              "      <td>portal-inbox</td>\n",
              "      <td>karl.matthias karl.matthias karl.matthias karl...</td>\n",
              "      <td>FIXED</td>\n",
              "    </tr>\n",
              "  </tbody>\n",
              "</table>\n",
              "</div>"
            ],
            "text/plain": [
              "       ID ProductName  ...                                              Topic Status\n",
              "0  221036   Community  ...     d_a_carver bjorn.freeman-benson karl.matthias   FIXED\n",
              "1  221203   Community  ...  d_a_carver d_a_carver bjorn.freeman-benson kar...  FIXED\n",
              "2  243952   Community  ...  ekuleshov ekuleshov bjorn.freeman-benson ekule...  FIXED\n",
              "3  230229   Community  ...  webmaster webmaster bjorn.freeman-benson karl....  FIXED\n",
              "4  229095   Community  ...  karl.matthias karl.matthias karl.matthias karl...  FIXED\n",
              "\n",
              "[5 rows x 10 columns]"
            ]
          },
          "metadata": {},
          "execution_count": 5
        }
      ]
    },
    {
      "cell_type": "markdown",
      "metadata": {
        "id": "L9FNrbXcPwW5"
      },
      "source": [
        "Vamos olhar os tipos de valores diferentes da coluna 'Status:\n",
        "\n",
        "\n"
      ]
    },
    {
      "cell_type": "code",
      "metadata": {
        "colab": {
          "base_uri": "https://localhost:8080/"
        },
        "id": "a3fmQ0e_zEdQ",
        "outputId": "32be5c80-e255-49e5-f58c-6cb1243cb51b"
      },
      "source": [
        "# Valores de \"Status\"\n",
        "class_names = df['Status'].unique()\n",
        "class_names"
      ],
      "execution_count": 6,
      "outputs": [
        {
          "output_type": "execute_result",
          "data": {
            "text/plain": [
              "array(['FIXED'], dtype=object)"
            ]
          },
          "metadata": {},
          "execution_count": 6
        }
      ]
    },
    {
      "cell_type": "markdown",
      "metadata": {
        "id": "F46Gs01nJGfY"
      },
      "source": [
        "Como só tem o \"FIXED\" não precisamos remover nenhum entrada do dataset. Dessa forma, vamos olhar os valores agora da coluna \"SeverityLevel\":"
      ]
    },
    {
      "cell_type": "code",
      "metadata": {
        "colab": {
          "base_uri": "https://localhost:8080/"
        },
        "id": "uEvUZ7Kt0ZfB",
        "outputId": "785151c8-23b3-4670-f279-281e6227c43c"
      },
      "source": [
        "# Valores de \"SeverityLevel\"\n",
        "class_names = df['SeverityLevel'].unique()\n",
        "class_names"
      ],
      "execution_count": 7,
      "outputs": [
        {
          "output_type": "execute_result",
          "data": {
            "text/plain": [
              "array(['blocker', 'critical', 'major', 'normal', 'enhancement', 'minor',\n",
              "       'trivial'], dtype=object)"
            ]
          },
          "metadata": {},
          "execution_count": 7
        }
      ]
    },
    {
      "cell_type": "markdown",
      "metadata": {
        "id": "E0BL_1FVP3GJ"
      },
      "source": [
        "Temos valores que não queremos, logo, devemos remover entradas diferentes de \"blocker\", \"critical\", \"major\",\"minor\" e \"trivial\":"
      ]
    },
    {
      "cell_type": "code",
      "metadata": {
        "colab": {
          "base_uri": "https://localhost:8080/",
          "height": 292
        },
        "id": "1IQ2-zuEymiQ",
        "outputId": "5d377966-3702-4467-e079-e27bb5cc861a"
      },
      "source": [
        "# Removendo valores\n",
        "processedDataset = df[(df.SeverityLevel == \"blocker\") | (df.SeverityLevel == \"critical\") | (df.SeverityLevel == \"major\") | (df.SeverityLevel == \"minor\") | (df.SeverityLevel == \"trivial\")]\n",
        "\n",
        "# Apresentando dataset\n",
        "processedDataset.head()"
      ],
      "execution_count": 8,
      "outputs": [
        {
          "output_type": "execute_result",
          "data": {
            "text/html": [
              "<div>\n",
              "<style scoped>\n",
              "    .dataframe tbody tr th:only-of-type {\n",
              "        vertical-align: middle;\n",
              "    }\n",
              "\n",
              "    .dataframe tbody tr th {\n",
              "        vertical-align: top;\n",
              "    }\n",
              "\n",
              "    .dataframe thead th {\n",
              "        text-align: right;\n",
              "    }\n",
              "</style>\n",
              "<table border=\"1\" class=\"dataframe\">\n",
              "  <thead>\n",
              "    <tr style=\"text-align: right;\">\n",
              "      <th></th>\n",
              "      <th>ID</th>\n",
              "      <th>ProductName</th>\n",
              "      <th>ProcessedSummary</th>\n",
              "      <th>ProcessedDescription</th>\n",
              "      <th>ComponentName</th>\n",
              "      <th>SeverityLevel</th>\n",
              "      <th>Priority</th>\n",
              "      <th>Developers</th>\n",
              "      <th>Topic</th>\n",
              "      <th>Status</th>\n",
              "    </tr>\n",
              "  </thead>\n",
              "  <tbody>\n",
              "    <tr>\n",
              "      <th>0</th>\n",
              "      <td>221036</td>\n",
              "      <td>Community</td>\n",
              "      <td>unabl enter request parti code cq</td>\n",
              "      <td>report enter request parti librari submit java...</td>\n",
              "      <td>Project Management &amp; Portal</td>\n",
              "      <td>blocker</td>\n",
              "      <td>P1</td>\n",
              "      <td>bjorn.freeman-benson</td>\n",
              "      <td>d_a_carver bjorn.freeman-benson karl.matthias</td>\n",
              "      <td>FIXED</td>\n",
              "    </tr>\n",
              "    <tr>\n",
              "      <th>1</th>\n",
              "      <td>221203</td>\n",
              "      <td>Community</td>\n",
              "      <td>submit request cq cq submit</td>\n",
              "      <td>submit request cq cq submit creat screen retur...</td>\n",
              "      <td>Project Management &amp; Portal</td>\n",
              "      <td>blocker</td>\n",
              "      <td>P1</td>\n",
              "      <td>bjorn.freeman-benson</td>\n",
              "      <td>d_a_carver d_a_carver bjorn.freeman-benson kar...</td>\n",
              "      <td>FIXED</td>\n",
              "    </tr>\n",
              "    <tr>\n",
              "      <th>2</th>\n",
              "      <td>243952</td>\n",
              "      <td>Community</td>\n",
              "      <td>ca submit cq rd parti contribut develop apach</td>\n",
              "      <td>valid apach url enter url project page apach p...</td>\n",
              "      <td>Project Management &amp; Portal</td>\n",
              "      <td>blocker</td>\n",
              "      <td>P1</td>\n",
              "      <td>bjorn.freeman-benson</td>\n",
              "      <td>ekuleshov ekuleshov bjorn.freeman-benson ekule...</td>\n",
              "      <td>FIXED</td>\n",
              "    </tr>\n",
              "    <tr>\n",
              "      <th>3</th>\n",
              "      <td>230229</td>\n",
              "      <td>Community</td>\n",
              "      <td>tool link fail ie</td>\n",
              "      <td>webmast email tool link respond js error error...</td>\n",
              "      <td>Project Management &amp; Portal</td>\n",
              "      <td>blocker</td>\n",
              "      <td>P1</td>\n",
              "      <td>gabe.obrien</td>\n",
              "      <td>webmaster webmaster bjorn.freeman-benson karl....</td>\n",
              "      <td>FIXED</td>\n",
              "    </tr>\n",
              "    <tr>\n",
              "      <th>4</th>\n",
              "      <td>229095</td>\n",
              "      <td>Community</td>\n",
              "      <td>cron total broken</td>\n",
              "      <td>portal cron job broken friday gabe debug fix c...</td>\n",
              "      <td>Project Management &amp; Portal</td>\n",
              "      <td>blocker</td>\n",
              "      <td>P1</td>\n",
              "      <td>portal-inbox</td>\n",
              "      <td>karl.matthias karl.matthias karl.matthias karl...</td>\n",
              "      <td>FIXED</td>\n",
              "    </tr>\n",
              "  </tbody>\n",
              "</table>\n",
              "</div>"
            ],
            "text/plain": [
              "       ID ProductName  ...                                              Topic Status\n",
              "0  221036   Community  ...     d_a_carver bjorn.freeman-benson karl.matthias   FIXED\n",
              "1  221203   Community  ...  d_a_carver d_a_carver bjorn.freeman-benson kar...  FIXED\n",
              "2  243952   Community  ...  ekuleshov ekuleshov bjorn.freeman-benson ekule...  FIXED\n",
              "3  230229   Community  ...  webmaster webmaster bjorn.freeman-benson karl....  FIXED\n",
              "4  229095   Community  ...  karl.matthias karl.matthias karl.matthias karl...  FIXED\n",
              "\n",
              "[5 rows x 10 columns]"
            ]
          },
          "metadata": {},
          "execution_count": 8
        }
      ]
    },
    {
      "cell_type": "markdown",
      "metadata": {
        "id": "OhxsyiGGP-dB"
      },
      "source": [
        "Verificando que tudo ocorreu bem:"
      ]
    },
    {
      "cell_type": "code",
      "metadata": {
        "id": "zBp7WNn75erQ",
        "colab": {
          "base_uri": "https://localhost:8080/"
        },
        "outputId": "5127bdbd-2fab-4e14-cd2d-37f69641ef6f"
      },
      "source": [
        "class_names = processedDataset['SeverityLevel'].unique()\n",
        "class_names"
      ],
      "execution_count": null,
      "outputs": [
        {
          "output_type": "execute_result",
          "data": {
            "text/plain": [
              "array(['blocker', 'critical', 'major', 'minor', 'trivial'], dtype=object)"
            ]
          },
          "metadata": {},
          "execution_count": 28
        }
      ]
    },
    {
      "cell_type": "markdown",
      "metadata": {
        "id": "9JU-VHDwzj-B"
      },
      "source": [
        "Temos apenas os valores que queremos. Tudo certo!"
      ]
    },
    {
      "cell_type": "markdown",
      "metadata": {
        "id": "IYdiDRMoP_ka"
      },
      "source": [
        "Agora vamos concatenar as colunas de \"ProcessedSummary\" e \"ProcessedDescription\" em uma única coluna chamada \"combinedSumAndDec\":"
      ]
    },
    {
      "cell_type": "code",
      "metadata": {
        "colab": {
          "base_uri": "https://localhost:8080/",
          "height": 292
        },
        "id": "LAYlM7VN1z8h",
        "outputId": "7a3d0ddf-6c3f-4d27-8604-f5878991fef7"
      },
      "source": [
        "# Concatenando colunas\n",
        "processedDataset[\"combinedSumAndDesc\"] = processedDataset[\"ProcessedSummary\"] + processedDataset[\"ProcessedDescription\"]\n",
        "processedDataset.head()"
      ],
      "execution_count": 9,
      "outputs": [
        {
          "output_type": "execute_result",
          "data": {
            "text/html": [
              "<div>\n",
              "<style scoped>\n",
              "    .dataframe tbody tr th:only-of-type {\n",
              "        vertical-align: middle;\n",
              "    }\n",
              "\n",
              "    .dataframe tbody tr th {\n",
              "        vertical-align: top;\n",
              "    }\n",
              "\n",
              "    .dataframe thead th {\n",
              "        text-align: right;\n",
              "    }\n",
              "</style>\n",
              "<table border=\"1\" class=\"dataframe\">\n",
              "  <thead>\n",
              "    <tr style=\"text-align: right;\">\n",
              "      <th></th>\n",
              "      <th>ID</th>\n",
              "      <th>ProductName</th>\n",
              "      <th>ProcessedSummary</th>\n",
              "      <th>ProcessedDescription</th>\n",
              "      <th>ComponentName</th>\n",
              "      <th>SeverityLevel</th>\n",
              "      <th>Priority</th>\n",
              "      <th>Developers</th>\n",
              "      <th>Topic</th>\n",
              "      <th>Status</th>\n",
              "      <th>combinedSumAndDesc</th>\n",
              "    </tr>\n",
              "  </thead>\n",
              "  <tbody>\n",
              "    <tr>\n",
              "      <th>0</th>\n",
              "      <td>221036</td>\n",
              "      <td>Community</td>\n",
              "      <td>unabl enter request parti code cq</td>\n",
              "      <td>report enter request parti librari submit java...</td>\n",
              "      <td>Project Management &amp; Portal</td>\n",
              "      <td>blocker</td>\n",
              "      <td>P1</td>\n",
              "      <td>bjorn.freeman-benson</td>\n",
              "      <td>d_a_carver bjorn.freeman-benson karl.matthias</td>\n",
              "      <td>FIXED</td>\n",
              "      <td>unabl enter request parti code cq report enter...</td>\n",
              "    </tr>\n",
              "    <tr>\n",
              "      <th>1</th>\n",
              "      <td>221203</td>\n",
              "      <td>Community</td>\n",
              "      <td>submit request cq cq submit</td>\n",
              "      <td>submit request cq cq submit creat screen retur...</td>\n",
              "      <td>Project Management &amp; Portal</td>\n",
              "      <td>blocker</td>\n",
              "      <td>P1</td>\n",
              "      <td>bjorn.freeman-benson</td>\n",
              "      <td>d_a_carver d_a_carver bjorn.freeman-benson kar...</td>\n",
              "      <td>FIXED</td>\n",
              "      <td>submit request cq cq submit submit request cq ...</td>\n",
              "    </tr>\n",
              "    <tr>\n",
              "      <th>2</th>\n",
              "      <td>243952</td>\n",
              "      <td>Community</td>\n",
              "      <td>ca submit cq rd parti contribut develop apach</td>\n",
              "      <td>valid apach url enter url project page apach p...</td>\n",
              "      <td>Project Management &amp; Portal</td>\n",
              "      <td>blocker</td>\n",
              "      <td>P1</td>\n",
              "      <td>bjorn.freeman-benson</td>\n",
              "      <td>ekuleshov ekuleshov bjorn.freeman-benson ekule...</td>\n",
              "      <td>FIXED</td>\n",
              "      <td>ca submit cq rd parti contribut develop apach ...</td>\n",
              "    </tr>\n",
              "    <tr>\n",
              "      <th>3</th>\n",
              "      <td>230229</td>\n",
              "      <td>Community</td>\n",
              "      <td>tool link fail ie</td>\n",
              "      <td>webmast email tool link respond js error error...</td>\n",
              "      <td>Project Management &amp; Portal</td>\n",
              "      <td>blocker</td>\n",
              "      <td>P1</td>\n",
              "      <td>gabe.obrien</td>\n",
              "      <td>webmaster webmaster bjorn.freeman-benson karl....</td>\n",
              "      <td>FIXED</td>\n",
              "      <td>tool link fail ie webmast email tool link resp...</td>\n",
              "    </tr>\n",
              "    <tr>\n",
              "      <th>4</th>\n",
              "      <td>229095</td>\n",
              "      <td>Community</td>\n",
              "      <td>cron total broken</td>\n",
              "      <td>portal cron job broken friday gabe debug fix c...</td>\n",
              "      <td>Project Management &amp; Portal</td>\n",
              "      <td>blocker</td>\n",
              "      <td>P1</td>\n",
              "      <td>portal-inbox</td>\n",
              "      <td>karl.matthias karl.matthias karl.matthias karl...</td>\n",
              "      <td>FIXED</td>\n",
              "      <td>cron total broken portal cron job broken frida...</td>\n",
              "    </tr>\n",
              "  </tbody>\n",
              "</table>\n",
              "</div>"
            ],
            "text/plain": [
              "       ID ProductName  ... Status                                 combinedSumAndDesc\n",
              "0  221036   Community  ...  FIXED  unabl enter request parti code cq report enter...\n",
              "1  221203   Community  ...  FIXED  submit request cq cq submit submit request cq ...\n",
              "2  243952   Community  ...  FIXED  ca submit cq rd parti contribut develop apach ...\n",
              "3  230229   Community  ...  FIXED  tool link fail ie webmast email tool link resp...\n",
              "4  229095   Community  ...  FIXED  cron total broken portal cron job broken frida...\n",
              "\n",
              "[5 rows x 11 columns]"
            ]
          },
          "metadata": {},
          "execution_count": 9
        }
      ]
    },
    {
      "cell_type": "markdown",
      "metadata": {
        "id": "RE3QJIGcQDHy"
      },
      "source": [
        "Agora, vamos excluior as colunas desnecessárias. Vamos retirar \"ProcessedSummary\", \"ProcessedDescription\" e \"ComponentName\":"
      ]
    },
    {
      "cell_type": "code",
      "metadata": {
        "colab": {
          "base_uri": "https://localhost:8080/",
          "height": 205
        },
        "id": "74gHaGfCDd92",
        "outputId": "829f692c-6c4e-4c92-dfcd-797139c19868"
      },
      "source": [
        "# Removendo colunas desnecessárias\n",
        "processedDataset.drop('ProcessedSummary', inplace=True, axis=1)\n",
        "processedDataset.drop('ProcessedDescription', inplace=True, axis=1)\n",
        "processedDataset.drop('ComponentName', inplace=True, axis=1)\n",
        "processedDataset.head()"
      ],
      "execution_count": 10,
      "outputs": [
        {
          "output_type": "execute_result",
          "data": {
            "text/html": [
              "<div>\n",
              "<style scoped>\n",
              "    .dataframe tbody tr th:only-of-type {\n",
              "        vertical-align: middle;\n",
              "    }\n",
              "\n",
              "    .dataframe tbody tr th {\n",
              "        vertical-align: top;\n",
              "    }\n",
              "\n",
              "    .dataframe thead th {\n",
              "        text-align: right;\n",
              "    }\n",
              "</style>\n",
              "<table border=\"1\" class=\"dataframe\">\n",
              "  <thead>\n",
              "    <tr style=\"text-align: right;\">\n",
              "      <th></th>\n",
              "      <th>ID</th>\n",
              "      <th>ProductName</th>\n",
              "      <th>SeverityLevel</th>\n",
              "      <th>Priority</th>\n",
              "      <th>Developers</th>\n",
              "      <th>Topic</th>\n",
              "      <th>Status</th>\n",
              "      <th>combinedSumAndDesc</th>\n",
              "    </tr>\n",
              "  </thead>\n",
              "  <tbody>\n",
              "    <tr>\n",
              "      <th>0</th>\n",
              "      <td>221036</td>\n",
              "      <td>Community</td>\n",
              "      <td>blocker</td>\n",
              "      <td>P1</td>\n",
              "      <td>bjorn.freeman-benson</td>\n",
              "      <td>d_a_carver bjorn.freeman-benson karl.matthias</td>\n",
              "      <td>FIXED</td>\n",
              "      <td>unabl enter request parti code cq report enter...</td>\n",
              "    </tr>\n",
              "    <tr>\n",
              "      <th>1</th>\n",
              "      <td>221203</td>\n",
              "      <td>Community</td>\n",
              "      <td>blocker</td>\n",
              "      <td>P1</td>\n",
              "      <td>bjorn.freeman-benson</td>\n",
              "      <td>d_a_carver d_a_carver bjorn.freeman-benson kar...</td>\n",
              "      <td>FIXED</td>\n",
              "      <td>submit request cq cq submit submit request cq ...</td>\n",
              "    </tr>\n",
              "    <tr>\n",
              "      <th>2</th>\n",
              "      <td>243952</td>\n",
              "      <td>Community</td>\n",
              "      <td>blocker</td>\n",
              "      <td>P1</td>\n",
              "      <td>bjorn.freeman-benson</td>\n",
              "      <td>ekuleshov ekuleshov bjorn.freeman-benson ekule...</td>\n",
              "      <td>FIXED</td>\n",
              "      <td>ca submit cq rd parti contribut develop apach ...</td>\n",
              "    </tr>\n",
              "    <tr>\n",
              "      <th>3</th>\n",
              "      <td>230229</td>\n",
              "      <td>Community</td>\n",
              "      <td>blocker</td>\n",
              "      <td>P1</td>\n",
              "      <td>gabe.obrien</td>\n",
              "      <td>webmaster webmaster bjorn.freeman-benson karl....</td>\n",
              "      <td>FIXED</td>\n",
              "      <td>tool link fail ie webmast email tool link resp...</td>\n",
              "    </tr>\n",
              "    <tr>\n",
              "      <th>4</th>\n",
              "      <td>229095</td>\n",
              "      <td>Community</td>\n",
              "      <td>blocker</td>\n",
              "      <td>P1</td>\n",
              "      <td>portal-inbox</td>\n",
              "      <td>karl.matthias karl.matthias karl.matthias karl...</td>\n",
              "      <td>FIXED</td>\n",
              "      <td>cron total broken portal cron job broken frida...</td>\n",
              "    </tr>\n",
              "  </tbody>\n",
              "</table>\n",
              "</div>"
            ],
            "text/plain": [
              "       ID ProductName  ... Status                                 combinedSumAndDesc\n",
              "0  221036   Community  ...  FIXED  unabl enter request parti code cq report enter...\n",
              "1  221203   Community  ...  FIXED  submit request cq cq submit submit request cq ...\n",
              "2  243952   Community  ...  FIXED  ca submit cq rd parti contribut develop apach ...\n",
              "3  230229   Community  ...  FIXED  tool link fail ie webmast email tool link resp...\n",
              "4  229095   Community  ...  FIXED  cron total broken portal cron job broken frida...\n",
              "\n",
              "[5 rows x 8 columns]"
            ]
          },
          "metadata": {},
          "execution_count": 10
        }
      ]
    },
    {
      "cell_type": "markdown",
      "metadata": {
        "id": "KpneRGZlQFGU"
      },
      "source": [
        "Vamos verificar por valores NaN, já que o classificador não consegue lidar com isso:"
      ]
    },
    {
      "cell_type": "code",
      "metadata": {
        "colab": {
          "base_uri": "https://localhost:8080/"
        },
        "id": "sO7ja7JuKjWP",
        "outputId": "19b3ec61-b8f5-4c73-e9f6-b4aa95870765"
      },
      "source": [
        "# Verificando entradas vazias na coluna \"combinedSumAndDesc\"\n",
        "processedDataset['combinedSumAndDesc'].isnull().sum()"
      ],
      "execution_count": 11,
      "outputs": [
        {
          "output_type": "execute_result",
          "data": {
            "text/plain": [
              "62"
            ]
          },
          "metadata": {},
          "execution_count": 11
        }
      ]
    },
    {
      "cell_type": "markdown",
      "metadata": {
        "id": "_ccmKI85J6r4"
      },
      "source": [
        "Podemos ver que a coluna de \"combinedSumAndDesc\" possui 62 entradas vazias. Logo, vamos retirá-las:"
      ]
    },
    {
      "cell_type": "code",
      "metadata": {
        "colab": {
          "base_uri": "https://localhost:8080/"
        },
        "id": "logTOqMfKhy3",
        "outputId": "885b3002-99ef-4199-b11c-bc95c3d83d0d"
      },
      "source": [
        "# Retirando entradas vazias\n",
        "processedDataset = processedDataset.dropna()\n",
        "processedDataset['combinedSumAndDesc'].isnull().sum()"
      ],
      "execution_count": 12,
      "outputs": [
        {
          "output_type": "execute_result",
          "data": {
            "text/plain": [
              "0"
            ]
          },
          "metadata": {},
          "execution_count": 12
        }
      ]
    },
    {
      "cell_type": "markdown",
      "metadata": {
        "id": "693PA-58QHUR"
      },
      "source": [
        "Tudo certo agora, vamos dividir o dataset no conjunto de teste e de treinamento:"
      ]
    },
    {
      "cell_type": "code",
      "metadata": {
        "colab": {
          "base_uri": "https://localhost:8080/"
        },
        "id": "nbttYksoydKh",
        "outputId": "ce34744c-298c-4679-d984-b6c6983820c5"
      },
      "source": [
        "# Split Dataset nas colunas \"combinedSumAndDesc\" e \"SeverityLevel\"\n",
        "X_train, X_test, y_train, y_test = train_test_split(processedDataset[['combinedSumAndDesc']], processedDataset.SeverityLevel, random_state=42)\n",
        "X_train.shape"
      ],
      "execution_count": 14,
      "outputs": [
        {
          "output_type": "execute_result",
          "data": {
            "text/plain": [
              "(5535, 1)"
            ]
          },
          "metadata": {},
          "execution_count": 14
        }
      ]
    },
    {
      "cell_type": "markdown",
      "metadata": {
        "id": "aIrtmyGlPl_i"
      },
      "source": [
        "**Classificador KNeighborsClassifier:**"
      ]
    },
    {
      "cell_type": "code",
      "metadata": {
        "colab": {
          "base_uri": "https://localhost:8080/"
        },
        "id": "ws0iewAWE0-f",
        "outputId": "f9853925-eba4-40fe-b6bb-82db17a4d367"
      },
      "source": [
        "# Stop Words\n",
        "nltk.download('stopwords')\n",
        "\n",
        "nltk.download('punkt')\n",
        "\n",
        "stop_words = nltk.corpus.stopwords.words('english')\n",
        "\n",
        "# NLP Pipeline\n",
        "text_clf   = Pipeline([\n",
        "                # Vectorize\n",
        "                ('vect',  TfidfVectorizer(tokenizer=tokenize, \n",
        "                                          stop_words=stop_words, \n",
        "                                          ngram_range=(1,2))),\n",
        "                # Classificador\n",
        "                ('clf',   KNeighborsClassifier(n_jobs=-1)),\n",
        "            ])\n",
        "\n",
        "# Train\n",
        "text_clf = text_clf.fit(X_train.combinedSumAndDesc, y_train)"
      ],
      "execution_count": 15,
      "outputs": [
        {
          "output_type": "stream",
          "name": "stdout",
          "text": [
            "[nltk_data] Downloading package stopwords to /root/nltk_data...\n",
            "[nltk_data]   Unzipping corpora/stopwords.zip.\n",
            "[nltk_data] Downloading package punkt to /root/nltk_data...\n",
            "[nltk_data]   Unzipping tokenizers/punkt.zip.\n"
          ]
        }
      ]
    },
    {
      "cell_type": "code",
      "metadata": {
        "colab": {
          "base_uri": "https://localhost:8080/"
        },
        "id": "KdiAvoz6Ksl4",
        "outputId": "a2bb7559-4310-43ff-b18b-6a6436a2bfc0"
      },
      "source": [
        "text_clf.score(X_test.combinedSumAndDesc, y_test)"
      ],
      "execution_count": 16,
      "outputs": [
        {
          "output_type": "execute_result",
          "data": {
            "text/plain": [
              "0.421680216802168"
            ]
          },
          "metadata": {},
          "execution_count": 16
        }
      ]
    },
    {
      "cell_type": "markdown",
      "metadata": {
        "id": "-nfSwVaxGsew"
      },
      "source": [
        "**Métrica F1_Score do classificador KNeighborsClassifier:**"
      ]
    },
    {
      "cell_type": "code",
      "metadata": {
        "colab": {
          "base_uri": "https://localhost:8080/"
        },
        "id": "wgqWPyj20iDa",
        "outputId": "aaf14784-bf59-40ff-9a6b-a5e194418209"
      },
      "source": [
        "predictions = text_clf.predict(X_test.combinedSumAndDesc)\n",
        "f1_score(y_test, predictions, average='weighted')"
      ],
      "execution_count": 17,
      "outputs": [
        {
          "output_type": "execute_result",
          "data": {
            "text/plain": [
              "0.4100016349408238"
            ]
          },
          "metadata": {},
          "execution_count": 17
        }
      ]
    },
    {
      "cell_type": "markdown",
      "metadata": {
        "id": "yDqA0a86Hepu"
      },
      "source": [
        "**Métrica matriz de confusão do classificador KNeighborsClassifier:**"
      ]
    },
    {
      "cell_type": "code",
      "metadata": {
        "id": "HURutPTpEm9v"
      },
      "source": [
        "conf_matrix = confusion_matrix(y_test,predictions)"
      ],
      "execution_count": 18,
      "outputs": []
    },
    {
      "cell_type": "code",
      "metadata": {
        "colab": {
          "base_uri": "https://localhost:8080/",
          "height": 592
        },
        "id": "beAjMnilEvvR",
        "outputId": "57211037-16d0-4891-a3f2-d5e531d062fd"
      },
      "source": [
        "plt.figure(figsize=(10,10))\n",
        "plt.xticks(np.arange(len(text_clf.classes_)),text_clf.classes_)\n",
        "plt.yticks(np.arange(len(text_clf.classes_)),text_clf.classes_)\n",
        "plt.imshow(conf_matrix,cmap=plt.cm.Reds)\n",
        "plt.colorbar()"
      ],
      "execution_count": 19,
      "outputs": [
        {
          "output_type": "execute_result",
          "data": {
            "text/plain": [
              "<matplotlib.colorbar.Colorbar at 0x7fbbcf525b50>"
            ]
          },
          "metadata": {},
          "execution_count": 19
        },
        {
          "output_type": "display_data",
          "data": {
            "image/png": "[encoded data removed]",
            "text/plain": [
              "<Figure size 720x720 with 2 Axes>"
            ]
          },
          "metadata": {
            "needs_background": "light"
          }
        }
      ]
    },
    {
      "cell_type": "markdown",
      "metadata": {
        "id": "I1hibMq-OYdi"
      },
      "source": [
        "**Classificador MultinomialNB:**"
      ]
    },
    {
      "cell_type": "code",
      "metadata": {
        "colab": {
          "base_uri": "https://localhost:8080/"
        },
        "id": "pMqwQaHROCpp",
        "outputId": "f77924ab-3571-44f4-dff3-34a66d9ff6c1"
      },
      "source": [
        "# Stop Words\n",
        "nltk.download('stopwords')\n",
        "\n",
        "nltk.download('punkt')\n",
        "\n",
        "stop_words = nltk.corpus.stopwords.words('english')\n",
        "\n",
        "# NLP Pipeline\n",
        "text_clf   = Pipeline([\n",
        "                # Vectorize\n",
        "                ('vect',  TfidfVectorizer(tokenizer=tokenize, \n",
        "                                          stop_words=stop_words, \n",
        "                                          ngram_range=(1,2))),\n",
        "                # Classificador\n",
        "                ('clf',   MultinomialNB ()),\n",
        "            ])\n",
        "\n",
        "# Train\n",
        "text_clf = text_clf.fit(X_train.combinedSumAndDesc, y_train)"
      ],
      "execution_count": 20,
      "outputs": [
        {
          "output_type": "stream",
          "name": "stdout",
          "text": [
            "[nltk_data] Downloading package stopwords to /root/nltk_data...\n",
            "[nltk_data]   Package stopwords is already up-to-date!\n",
            "[nltk_data] Downloading package punkt to /root/nltk_data...\n",
            "[nltk_data]   Package punkt is already up-to-date!\n"
          ]
        }
      ]
    },
    {
      "cell_type": "code",
      "metadata": {
        "colab": {
          "base_uri": "https://localhost:8080/"
        },
        "id": "fzWQN9t6OlRx",
        "outputId": "92d90bdc-c6d1-4a9d-b754-2b6c38d801c3"
      },
      "source": [
        "text_clf.score(X_test.combinedSumAndDesc, y_test)"
      ],
      "execution_count": 21,
      "outputs": [
        {
          "output_type": "execute_result",
          "data": {
            "text/plain": [
              "0.4"
            ]
          },
          "metadata": {},
          "execution_count": 21
        }
      ]
    },
    {
      "cell_type": "markdown",
      "metadata": {
        "id": "FeT9lBksGbzT"
      },
      "source": [
        "**Métrica F1_Score do classificador MultinomialNB:**"
      ]
    },
    {
      "cell_type": "code",
      "metadata": {
        "colab": {
          "base_uri": "https://localhost:8080/"
        },
        "id": "JKKlCVa8FqgQ",
        "outputId": "bc204a5d-f3a2-452c-d1e0-e22cadd2b4b5"
      },
      "source": [
        "predictions = text_clf.predict(X_test.combinedSumAndDesc)\n",
        "f1_score(y_test, predictions, average='weighted')"
      ],
      "execution_count": 22,
      "outputs": [
        {
          "output_type": "execute_result",
          "data": {
            "text/plain": [
              "0.2342207946676482"
            ]
          },
          "metadata": {},
          "execution_count": 22
        }
      ]
    },
    {
      "cell_type": "markdown",
      "metadata": {
        "id": "BxoNtD9dHU75"
      },
      "source": [
        "**Métrica matriz de confusão do classificador MultinomialNB:**"
      ]
    },
    {
      "cell_type": "code",
      "metadata": {
        "id": "q2LvwNtdFt4i"
      },
      "source": [
        "conf_matrix = confusion_matrix(y_test,predictions)"
      ],
      "execution_count": 23,
      "outputs": []
    },
    {
      "cell_type": "code",
      "metadata": {
        "colab": {
          "base_uri": "https://localhost:8080/",
          "height": 598
        },
        "id": "vA7ePN-fFiuH",
        "outputId": "a7e2b25c-a6a5-4d9c-a426-c67333edc00b"
      },
      "source": [
        "plt.figure(figsize=(10,10))\n",
        "plt.xticks(np.arange(len(text_clf.classes_)),text_clf.classes_)\n",
        "plt.yticks(np.arange(len(text_clf.classes_)),text_clf.classes_)\n",
        "plt.imshow(conf_matrix,cmap=plt.cm.Blues)\n",
        "plt.colorbar()"
      ],
      "execution_count": 24,
      "outputs": [
        {
          "output_type": "execute_result",
          "data": {
            "text/plain": [
              "<matplotlib.colorbar.Colorbar at 0x7fbbd065f850>"
            ]
          },
          "metadata": {},
          "execution_count": 24
        },
        {
          "output_type": "display_data",
          "data": {
            "image/png": "[encoded data removed]",
            "text/plain": [
              "<Figure size 720x720 with 2 Axes>"
            ]
          },
          "metadata": {
            "needs_background": "light"
          }
        }
      ]
    },
    {
      "cell_type": "markdown",
      "metadata": {
        "id": "IZ3d7bvQOgoQ"
      },
      "source": [
        "**Classificador SVC:**"
      ]
    },
    {
      "cell_type": "code",
      "metadata": {
        "colab": {
          "base_uri": "https://localhost:8080/"
        },
        "id": "F2sYz37uOg8U",
        "outputId": "acf2be53-f9c7-4fe1-a761-14e2dfc3bf9d"
      },
      "source": [
        "# Stop Words\n",
        "nltk.download('stopwords')\n",
        "\n",
        "nltk.download('punkt')\n",
        "\n",
        "stop_words = nltk.corpus.stopwords.words('english')\n",
        "\n",
        "# NLP Pipeline\n",
        "text_clf   = Pipeline([\n",
        "                # Vectorize\n",
        "                ('vect',  TfidfVectorizer(tokenizer=tokenize, \n",
        "                                          stop_words=stop_words, \n",
        "                                          ngram_range=(1,2))),\n",
        "                # Classificador\n",
        "                ('clf',   SVC(kernel='linear', C=1E10)),\n",
        "            ])\n",
        "\n",
        "# Train\n",
        "text_clf = text_clf.fit(X_train.combinedSumAndDesc, y_train)"
      ],
      "execution_count": 25,
      "outputs": [
        {
          "output_type": "stream",
          "name": "stdout",
          "text": [
            "[nltk_data] Downloading package stopwords to /root/nltk_data...\n",
            "[nltk_data]   Package stopwords is already up-to-date!\n",
            "[nltk_data] Downloading package punkt to /root/nltk_data...\n",
            "[nltk_data]   Package punkt is already up-to-date!\n"
          ]
        }
      ]
    },
    {
      "cell_type": "code",
      "metadata": {
        "colab": {
          "base_uri": "https://localhost:8080/"
        },
        "id": "-2T6UJlIO047",
        "outputId": "1949d53b-f1d7-45c9-9199-1b5612b4ffa9"
      },
      "source": [
        "text_clf.score(X_test.combinedSumAndDesc, y_test)"
      ],
      "execution_count": 26,
      "outputs": [
        {
          "output_type": "execute_result",
          "data": {
            "text/plain": [
              "0.5051490514905149"
            ]
          },
          "metadata": {},
          "execution_count": 26
        }
      ]
    },
    {
      "cell_type": "markdown",
      "metadata": {
        "id": "ci6WmO7QG2Eh"
      },
      "source": [
        "**Métrica F1_Score do classificador SVC:**"
      ]
    },
    {
      "cell_type": "code",
      "metadata": {
        "colab": {
          "base_uri": "https://localhost:8080/"
        },
        "id": "cGhjhvr9Fxaj",
        "outputId": "d611ee4e-7c1c-4bcb-b5b0-a366010e1b9c"
      },
      "source": [
        "predictions = text_clf.predict(X_test.combinedSumAndDesc)\n",
        "f1_score(y_test, predictions, average='weighted')"
      ],
      "execution_count": 27,
      "outputs": [
        {
          "output_type": "execute_result",
          "data": {
            "text/plain": [
              "0.49505289717794815"
            ]
          },
          "metadata": {},
          "execution_count": 27
        }
      ]
    },
    {
      "cell_type": "markdown",
      "metadata": {
        "id": "_c4VfirYHBUQ"
      },
      "source": [
        "**Métrica matriz de confusão do classificador SVC:**"
      ]
    },
    {
      "cell_type": "code",
      "metadata": {
        "id": "fdJHWjt-FvnH"
      },
      "source": [
        "conf_matrix = confusion_matrix(y_test,predictions)"
      ],
      "execution_count": 28,
      "outputs": []
    },
    {
      "cell_type": "code",
      "metadata": {
        "colab": {
          "base_uri": "https://localhost:8080/",
          "height": 592
        },
        "id": "RXZNwfFMFmXg",
        "outputId": "7d9a8ad1-cd37-4738-d653-43acfe8671ef"
      },
      "source": [
        "plt.figure(figsize=(10,10))\n",
        "plt.xticks(np.arange(len(text_clf.classes_)),text_clf.classes_)\n",
        "plt.yticks(np.arange(len(text_clf.classes_)),text_clf.classes_)\n",
        "plt.imshow(conf_matrix,cmap=plt.cm.Purples)\n",
        "plt.colorbar()"
      ],
      "execution_count": 29,
      "outputs": [
        {
          "output_type": "execute_result",
          "data": {
            "text/plain": [
              "<matplotlib.colorbar.Colorbar at 0x7fbbd0306190>"
            ]
          },
          "metadata": {},
          "execution_count": 29
        },
        {
          "output_type": "display_data",
          "data": {
            "image/png": "[encoded data removed]",
            "text/plain": [
              "<Figure size 720x720 with 2 Axes>"
            ]
          },
          "metadata": {
            "needs_background": "light"
          }
        }
      ]
    }
  ]
}